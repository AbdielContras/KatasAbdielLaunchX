{
 "cells": [
  {
   "cell_type": "markdown",
   "metadata": {},
   "source": [
    "# Ejercicio 1 - Operadores aritméticos"
   ]
  },
  {
   "cell_type": "code",
   "execution_count": 5,
   "metadata": {},
   "outputs": [
    {
     "name": "stdout",
     "output_type": "stream",
     "text": [
      "The distance between Earth and Jupiter is 628949330 km\n",
      "The distance between Earth and Jupiter is 390577534 km\n"
     ]
    }
   ],
   "source": [
    "dEarth = 149597870\n",
    "dJupiter = 778547200\n",
    "\n",
    "distanceKm = dEarth - dJupiter\n",
    "\n",
    "distanceMi = round(distancekm * 0.621)\n",
    "\n",
    "print('The distance between Earth and Jupiter is ' + str(abs(distanceKm)) + ' km')\n",
    "print('The distance between Earth and Jupiter is ' + str(abs(distanceMi)) + ' km')"
   ]
  },
  {
   "cell_type": "markdown",
   "metadata": {},
   "source": [
    "# Ejercicio 2 - Cadenas en números y valores absolutos"
   ]
  },
  {
   "cell_type": "code",
   "execution_count": 3,
   "metadata": {},
   "outputs": [
    {
     "name": "stdout",
     "output_type": "stream",
     "text": [
      "The distance between 227900000 and 4495100000 is 1024433290000000000 km\n",
      "The distance between 227900000 and 4495100000 is 636173073090000000 mi\n"
     ]
    }
   ],
   "source": [
    "# Almacenar las entradas del usuario\n",
    "planet1 = input('Enter the distance from the sun for the first planet: ')\n",
    "planet2 = input('Enter the distance from the sun for the second planet: ')\n",
    "\n",
    "# Convierte las cadenas de ambos planetas a números enteros\n",
    "# Realizar el cálculo y determinar el valor absoluto\n",
    "distance = abs( int(planet1) * int(planet2))\n",
    "\n",
    "# Convertir de KM a Millas\n",
    "distancemi = round(distance * 0.621)\n",
    "\n",
    "print(f'The distance between {planet1} and {planet2} is {distance} km')\n",
    "print(f'The distance between {planet1} and {planet2} is {distancemi} mi')"
   ]
  }
 ],
 "metadata": {
  "interpreter": {
   "hash": "ee1312017a0be01331741f7bc41c44d99a1897a8e777c01c691a2cc4720ecefd"
  },
  "kernelspec": {
   "display_name": "Python 3.10.2 64-bit",
   "language": "python",
   "name": "python3"
  },
  "language_info": {
   "codemirror_mode": {
    "name": "ipython",
    "version": 3
   },
   "file_extension": ".py",
   "mimetype": "text/x-python",
   "name": "python",
   "nbconvert_exporter": "python",
   "pygments_lexer": "ipython3",
   "version": "3.10.2"
  },
  "orig_nbformat": 4
 },
 "nbformat": 4,
 "nbformat_minor": 2
}
