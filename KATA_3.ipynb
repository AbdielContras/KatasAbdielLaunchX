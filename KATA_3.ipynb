{
 "cells": [
  {
   "cell_type": "markdown",
   "metadata": {},
   "source": [
    "## Ejercicio 1 y 2 (if, else, elif)"
   ]
  },
  {
   "cell_type": "code",
   "execution_count": 4,
   "metadata": {},
   "outputs": [
    {
     "name": "stdout",
     "output_type": "stream",
     "text": [
      "¡WARNING! Asteroid approaching at 49 km/s\n"
     ]
    }
   ],
   "source": [
    "velocidadAsteroide = 49\n",
    "\n",
    "if (velocidadAsteroide >= 25):\n",
    "    print('¡WARNING! Asteroid approaching at ' + str(velocidadAsteroide) +' km/s')\n",
    "else :\n",
    "    print('The asteroid poses no threat')"
   ]
  },
  {
   "cell_type": "code",
   "execution_count": 5,
   "metadata": {},
   "outputs": [
    {
     "name": "stdout",
     "output_type": "stream",
     "text": [
      "There are no rays of light in the sky\n"
     ]
    }
   ],
   "source": [
    "velocidadAsteroide = 19\n",
    "\n",
    "if (velocidadAsteroide >= 20):\n",
    "    print('look up!, You should be able to see the ray of light in the sky')\n",
    "elif (velocidadAsteroide < 20):\n",
    "    print('There are no rays of light in the sky')"
   ]
  },
  {
   "cell_type": "markdown",
   "metadata": {},
   "source": [
    "## Ejercicio 3 (and, or)"
   ]
  },
  {
   "cell_type": "code",
   "execution_count": 10,
   "metadata": {},
   "outputs": [
    {
     "name": "stdout",
     "output_type": "stream",
     "text": [
      "Starting ADS (Asteroid Detection System):\n",
      "¡WARNING! Asteroid approaching at 50 km/s\n"
     ]
    }
   ],
   "source": [
    "velocidadAsteroide = 50\n",
    "dimensionAsteroide = 30\n",
    "\n",
    "print('Starting ADS (Asteroid Detection System):')\n",
    "\n",
    "if (velocidadAsteroide >= 25) and (dimensionAsteroide >=25):\n",
    "     print('¡WARNING! Asteroid approaching at ' + str(velocidadAsteroide) +' km/s')\n",
    "elif (dimensionAsteroide >= 20):\n",
    "    print('look up!, You should be able to see the ray of light in the sky')\n",
    "elif (velocidadAsteroide < 20):\n",
    "    print('There are no rays of light in the sky' '\\nHave a nice day!')\n",
    "else :\n",
    "    print('There are no rays of light in the sky' '\\nHave a nice day!')\n"
   ]
  }
 ],
 "metadata": {
  "interpreter": {
   "hash": "4540c630d0fd9e142020e46fd1f82d73a64eb3d52e25d5e5fd7f038d63d7f82c"
  },
  "kernelspec": {
   "display_name": "Python 3.10.2 64-bit (windows store)",
   "language": "python",
   "name": "python3"
  },
  "language_info": {
   "codemirror_mode": {
    "name": "ipython",
    "version": 3
   },
   "file_extension": ".py",
   "mimetype": "text/x-python",
   "name": "python",
   "nbconvert_exporter": "python",
   "pygments_lexer": "ipython3",
   "version": "3.10.2"
  },
  "orig_nbformat": 4
 },
 "nbformat": 4,
 "nbformat_minor": 2
}
