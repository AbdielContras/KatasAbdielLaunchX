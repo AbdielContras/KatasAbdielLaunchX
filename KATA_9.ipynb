{
 "cells": [
  {
   "cell_type": "markdown",
   "metadata": {},
   "source": [
    "# Ejercicio: Uso de funciones en Python\n",
    "Ejercicio 1: Trabajar con argumentos en funciones"
   ]
  },
  {
   "cell_type": "code",
   "execution_count": 4,
   "metadata": {},
   "outputs": [
    {
     "name": "stdout",
     "output_type": "stream",
     "text": [
      " Fuel Report:\n",
      "    Average: 47.333333333333336\n",
      "    \n"
     ]
    }
   ],
   "source": [
    "# Función para leer 3 tanques de combustible y muestre el promedio\n",
    "\n",
    "def tankReport(firstTank,secondTank,thirdTank):\n",
    "    average = (firstTank + secondTank + thirdTank) / 3\n",
    "    return f\"\"\" Fuel Report:\n",
    "    Average: {average}\n",
    "    \"\"\"\n",
    "\n",
    "print(tankReport(10,50,82))"
   ]
  },
  {
   "cell_type": "code",
   "execution_count": 7,
   "metadata": {},
   "outputs": [
    {
     "name": "stdout",
     "output_type": "stream",
     "text": [
      "47.333333333333336\n"
     ]
    }
   ],
   "source": [
    "# Función promedio \n",
    "\n",
    "def tAverage(values):\n",
    "    total = sum(values)\n",
    "    i = len(values)\n",
    "    return total / i\n",
    "\n",
    "print(tAverage([10,50,82]))"
   ]
  },
  {
   "cell_type": "code",
   "execution_count": 8,
   "metadata": {},
   "outputs": [
    {
     "name": "stdout",
     "output_type": "stream",
     "text": [
      " Fuel Report:\n",
      "    Average: 47.333333333333336\n",
      "    \n"
     ]
    }
   ],
   "source": [
    "# Actualiza la función\n",
    "\n",
    "def tankReport(firstTank,secondTank,thirdTank):\n",
    "    return f\"\"\" Fuel Report:\n",
    "    Average: {tAverage([firstTank,secondTank,thirdTank])}\n",
    "    \"\"\"\n",
    "\n",
    "print(tankReport(10,50,82))"
   ]
  },
  {
   "cell_type": "markdown",
   "metadata": {},
   "source": [
    "# Ejercicio 2: Trabajo con argumentos de palabra clave\n",
    "Ejercicio : Trabajar con argumentos de palabras clave en funciones"
   ]
  },
  {
   "cell_type": "code",
   "execution_count": 10,
   "metadata": {},
   "outputs": [
    {
     "name": "stdout",
     "output_type": "stream",
     "text": [
      "\n",
      "    Mission to Moon\n",
      "    Total travel time: 70 minutes\n",
      "    Total fuel left: 65000 gallons\n",
      "    \n"
     ]
    }
   ],
   "source": [
    "# Función con un informe preciso de la misión. \n",
    "\n",
    "def mission_report( preLaunchTime, flightTime, destination, externalTank, internalTank):\n",
    "    return f\"\"\"\n",
    "    Mission to {destination}\n",
    "    Total travel time: { preLaunchTime + flightTime} minutes\n",
    "    Total fuel left: {externalTank + internalTank} gallons\n",
    "    \"\"\"\n",
    "\n",
    "print(mission_report(10, 60, \"Moon\", 25000, 40000))"
   ]
  },
  {
   "cell_type": "code",
   "execution_count": 12,
   "metadata": {},
   "outputs": [
    {
     "name": "stdout",
     "output_type": "stream",
     "text": [
      "\n",
      "    Mission to Moon\n",
      "    Total travel time: 112 minutes\n",
      "    Total fuel left: 65000\n",
      "    \n"
     ]
    }
   ],
   "source": [
    "# Escribe tu nueva función de reporte considerando lo anterior\n",
    "def mission_report(destination, *minutes, **fuel_reservoirs):\n",
    "    return f\"\"\"\n",
    "    Mission to {destination}\n",
    "    Total travel time: {sum(minutes)} minutes\n",
    "    Total fuel left: {sum(fuel_reservoirs.values())}\n",
    "    \"\"\"\n",
    "\n",
    "print(mission_report(\"Moon\",10,32,70,external = 40000,internal = 25000))"
   ]
  },
  {
   "cell_type": "code",
   "execution_count": 19,
   "metadata": {},
   "outputs": [
    {
     "name": "stdout",
     "output_type": "stream",
     "text": [
      "\n",
      "    Mission to Moon\n",
      "    Total travel time: 112 minutes\n",
      "    Total fuel left: 65000\n",
      "    external tank --> 40000 gallons left\n",
      "    internal tank --> 25000 gallons left\n",
      "    \n"
     ]
    }
   ],
   "source": [
    "# Escribe tu nueva función\n",
    "\n",
    "def mission_report(destination, *minutes, **fuel_reservoirs):\n",
    "    main_report = f\"\"\"\n",
    "    Mission to {destination}\n",
    "    Total travel time: {sum(minutes)} minutes\n",
    "    Total fuel left: {sum(fuel_reservoirs.values())}\n",
    "    \"\"\"\n",
    "    for tName, gallons in fuel_reservoirs.items():\n",
    "        main_report += f\"{tName} tank --> {gallons} gallons left\\n    \"\n",
    "    return main_report\n",
    "\n",
    "print(mission_report(\"Moon\",10,32,70,external = 40000,internal = 25000))"
   ]
  }
 ],
 "metadata": {
  "interpreter": {
   "hash": "ee1312017a0be01331741f7bc41c44d99a1897a8e777c01c691a2cc4720ecefd"
  },
  "kernelspec": {
   "display_name": "Python 3.10.2 64-bit",
   "language": "python",
   "name": "python3"
  },
  "language_info": {
   "codemirror_mode": {
    "name": "ipython",
    "version": 3
   },
   "file_extension": ".py",
   "mimetype": "text/x-python",
   "name": "python",
   "nbconvert_exporter": "python",
   "pygments_lexer": "ipython3",
   "version": "3.10.2"
  },
  "orig_nbformat": 4
 },
 "nbformat": 4,
 "nbformat_minor": 2
}
